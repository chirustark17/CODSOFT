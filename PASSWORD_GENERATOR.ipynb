{
  "nbformat": 4,
  "nbformat_minor": 0,
  "metadata": {
    "colab": {
      "provenance": [],
      "authorship_tag": "ABX9TyO3KJMGxLF1D24RrEtNRKpO",
      "include_colab_link": true
    },
    "kernelspec": {
      "name": "python3",
      "display_name": "Python 3"
    },
    "language_info": {
      "name": "python"
    }
  },
  "cells": [
    {
      "cell_type": "markdown",
      "metadata": {
        "id": "view-in-github",
        "colab_type": "text"
      },
      "source": [
        "<a href=\"https://colab.research.google.com/github/chirustark17/CODSOFT/blob/main/PASSWORD_GENERATOR.ipynb\" target=\"_parent\"><img src=\"https://colab.research.google.com/assets/colab-badge.svg\" alt=\"Open In Colab\"/></a>"
      ]
    },
    {
      "cell_type": "code",
      "execution_count": 10,
      "metadata": {
        "colab": {
          "base_uri": "https://localhost:8080/"
        },
        "id": "AvVZd4fqyTQM",
        "outputId": "e5540933-b469-4b02-93c3-b18ec61d013e"
      },
      "outputs": [
        {
          "output_type": "stream",
          "name": "stdout",
          "text": [
            "Enter desired password length (minimum 8 characters): 10\n",
            "Include uppercase letters (y/n)? y\n",
            "Include lowercase letters (y/n)? n\n",
            "Include numbers (y/n)? y\n",
            "Include symbols (y/n)? y\n",
            "Your generated password is: (32*{RHZ-I\n"
          ]
        }
      ],
      "source": [
        "import random\n",
        "import string\n",
        "\n",
        "def generate_password(length, include_uppercase=True, include_lowercase=True,\n",
        "                     include_numbers=True, include_symbols=True):\n",
        "  \"\"\"\n",
        "  Generates a strong and random password based on user-specified criteria.\n",
        "\n",
        "  Args:\n",
        "      length (int): Desired length of the password.\n",
        "      include_uppercase (bool, optional): Include uppercase letters (default: True).\n",
        "      include_lowercase (bool, optional): Include lowercase letters (default: True).\n",
        "      include_numbers (bool, optional): Include numbers (default: True).\n",
        "      include_symbols (bool, optional): Include symbols (default: True).\n",
        "\n",
        "  Returns:\n",
        "      str: The generated password.\n",
        "  \"\"\"\n",
        "\n",
        "  # Define character sets based on user choices\n",
        "  char_sets = []\n",
        "  if include_uppercase:\n",
        "    char_sets.append(string.ascii_uppercase)\n",
        "  if include_lowercase:\n",
        "    char_sets.append(string.ascii_lowercase)\n",
        "  if include_numbers:\n",
        "    char_sets.append(string.digits)\n",
        "  if include_symbols:\n",
        "    char_sets.append(string.punctuation)\n",
        "\n",
        "  # Validate user input for at least one character set\n",
        "  if not char_sets:\n",
        "    raise ValueError(\"Password must include at least one character type (uppercase, lowercase, numbers, or symbols).\")\n",
        "\n",
        "  # Combine character sets\n",
        "  all_chars = ''.join(char_sets)\n",
        "\n",
        "  # Generate random password\n",
        "  password = ''.join(random.sample(all_chars, length))\n",
        "  return password\n",
        "\n",
        "def main():\n",
        "  \"\"\"Prompts the user for desired password length and complexity options, then generates and displays the password.\"\"\"\n",
        "\n",
        "  while True:\n",
        "    try:\n",
        "      length = int(input(\"Enter desired password length (minimum 8 characters): \"))\n",
        "      if length < 8:\n",
        "        raise ValueError(\"Password length must be at least 8 characters.\")\n",
        "      break\n",
        "    except ValueError:\n",
        "      print(\"Invalid input. Please enter a positive integer value of 8 or higher.\")\n",
        "\n",
        "  complexity_options = {\n",
        "      \"uppercase\": \"Include uppercase letters (y/n)? \",\n",
        "      \"lowercase\": \"Include lowercase letters (y/n)? \",\n",
        "      \"numbers\": \"Include numbers (y/n)? \",\n",
        "      \"symbols\": \"Include symbols (y/n)? \",\n",
        "  }\n",
        "\n",
        "  include_complexity = {}\n",
        "  for option, prompt in complexity_options.items():\n",
        "    while True:\n",
        "      choice = input(prompt).lower()\n",
        "      if choice in (\"y\", \"n\"):\n",
        "        include_complexity[option] = choice == \"y\"\n",
        "        break\n",
        "      else:\n",
        "        print(\"Invalid input. Please enter 'y' or 'n'.\")\n",
        "\n",
        "  # Generate password based on user choices\n",
        "  password = generate_password(length, include_uppercase=include_complexity[\"uppercase\"], include_lowercase=include_complexity[\"lowercase\"], include_numbers=include_complexity[\"numbers\"], include_symbols=include_complexity[\"symbols\"])\n",
        "\n",
        "\n",
        "  print(f\"Your generated password is: {password}\")\n",
        "\n",
        "if __name__ == \"__main__\":\n",
        "  main()\n"
      ]
    }
  ]
}