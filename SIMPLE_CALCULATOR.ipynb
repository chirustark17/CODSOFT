{
  "nbformat": 4,
  "nbformat_minor": 0,
  "metadata": {
    "colab": {
      "provenance": [],
      "authorship_tag": "ABX9TyNOBFlvkrXoEB1/Ozm9h/+w",
      "include_colab_link": true
    },
    "kernelspec": {
      "name": "python3",
      "display_name": "Python 3"
    },
    "language_info": {
      "name": "python"
    }
  },
  "cells": [
    {
      "cell_type": "markdown",
      "metadata": {
        "id": "view-in-github",
        "colab_type": "text"
      },
      "source": [
        "<a href=\"https://colab.research.google.com/github/chirustark17/CODSOFT/blob/main/SIMPLE_CALCULATOR.ipynb\" target=\"_parent\"><img src=\"https://colab.research.google.com/assets/colab-badge.svg\" alt=\"Open In Colab\"/></a>"
      ]
    },
    {
      "cell_type": "code",
      "execution_count": 4,
      "metadata": {
        "colab": {
          "base_uri": "https://localhost:8080/"
        },
        "id": "3mo3gTpBcIO3",
        "outputId": "73ce2d03-72b1-4870-b85d-b5423a706572"
      },
      "outputs": [
        {
          "output_type": "stream",
          "name": "stdout",
          "text": [
            "Requirement already satisfied: colorama in /usr/local/lib/python3.10/dist-packages (0.4.6)\n"
          ]
        }
      ],
      "source": [
        "!pip install colorama\n"
      ]
    },
    {
      "cell_type": "code",
      "source": [
        "import colorama  # For colorful output\n",
        "\n",
        "colorama.init(autoreset=True)  # Automatically reset color after each line\n",
        "\n",
        "def calculate(num1, num2, operator):\n",
        "    \"\"\"Performs the specified arithmetic operation.\"\"\"\n",
        "    if operator == \"+\":\n",
        "        return num1 + num2\n",
        "    elif operator == \"-\":\n",
        "        return num1 - num2\n",
        "    elif operator == \"*\":\n",
        "        return num1 * num2\n",
        "    elif operator == \"/\":\n",
        "        if num2 == 0:\n",
        "            return \"Error: Division by zero\"\n",
        "        else:\n",
        "            return num1 / num2\n",
        "    else:\n",
        "        return \"Error: Invalid operator\"\n",
        "\n",
        "def main():\n",
        "    \"\"\"Main function for the calculator.\"\"\"\n",
        "\n",
        "    print(colorama.Fore.LIGHTCYAN_EX + \"Welcome to the Simple Calculator!\" + colorama.Style.RESET_ALL)\n",
        "\n",
        "    while True:\n",
        "        try:\n",
        "            num1 = float(input(colorama.Fore.LIGHTMAGENTA_EX + \"Enter the first number: \" + colorama.Style.RESET_ALL))\n",
        "            num2 = float(input(colorama.Fore.LIGHTMAGENTA_EX + \"Enter the second number: \" + colorama.Style.RESET_ALL))\n",
        "            operator = input(colorama.Fore.LIGHTGREEN_EX + \"Choose an operation (+, -, *, /): \" + colorama.Style.RESET_ALL)\n",
        "\n",
        "            result = calculate(num1, num2, operator)\n",
        "            print(colorama.Fore.LIGHTYELLOW_EX + f\"Result: {result}\" + colorama.Style.RESET_ALL)\n",
        "\n",
        "            choice = input(colorama.Fore.LIGHTBLUE_EX + \"Perform another calculation (y/n) y-YES , n-NO? \" + colorama.Style.RESET_ALL).lower()\n",
        "            if choice != \"y\":\n",
        "                break\n",
        "\n",
        "        except ValueError:\n",
        "            print(colorama.Fore.RED + \"Error: Invalid input. Please enter numbers only.\" + colorama.Style.RESET_ALL)\n",
        "\n",
        "if __name__ == \"__main__\":\n",
        "    main()\n",
        "\n"
      ],
      "metadata": {
        "colab": {
          "base_uri": "https://localhost:8080/"
        },
        "id": "YAAj0cQThb6S",
        "outputId": "70173e0d-633e-48aa-e7b6-511c6b6a6848"
      },
      "execution_count": 6,
      "outputs": [
        {
          "name": "stdout",
          "output_type": "stream",
          "text": [
            "Welcome to the Simple Calculator!\n",
            "\u001b[95mEnter the first number: \u001b[0m2\n",
            "\u001b[95mEnter the second number: \u001b[0m3\n",
            "\u001b[92mChoose an operation (+, -, *, /): \u001b[0m/\n",
            "Result: 0.6666666666666666\n",
            "\u001b[94mPerform another calculation (y/n) y-YES , n-NO? \u001b[0my\n",
            "\u001b[95mEnter the first number: \u001b[0m2\n",
            "\u001b[95mEnter the second number: \u001b[0m*\n",
            "Error: Invalid input. Please enter numbers only.\n",
            "\u001b[95mEnter the first number: \u001b[0m2\n",
            "\u001b[95mEnter the second number: \u001b[0m5\n",
            "\u001b[92mChoose an operation (+, -, *, /): \u001b[0m*\n",
            "Result: 10.0\n",
            "\u001b[94mPerform another calculation (y/n) y-YES , n-NO? \u001b[0mn\n"
          ]
        }
      ]
    }
  ]
}